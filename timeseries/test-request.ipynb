{
 "cells": [
  {
   "cell_type": "code",
   "execution_count": 1,
   "id": "427da5de-4555-4014-85ce-8db1f57f8f12",
   "metadata": {},
   "outputs": [],
   "source": [
    "from pprint import pprint\n",
    "from requests import post"
   ]
  },
  {
   "cell_type": "code",
   "execution_count": 2,
   "id": "4399bfcc-abc0-44f1-82dd-4ded81057f73",
   "metadata": {},
   "outputs": [],
   "source": [
    "model_name = 'model-2402030159'\n",
    "endpoint = 'http://modelmesh-serving.timeseries-project:8008'\n",
    "prediction_url = f'{endpoint}/v2/models/{model_name}/infer'"
   ]
  },
  {
   "cell_type": "code",
   "execution_count": 3,
   "id": "42d17db6-abef-4044-b3e7-df89d817475e",
   "metadata": {},
   "outputs": [],
   "source": [
    "sample = [16.1,  15.40,  15.32,  13.47,  14.70]\n",
    "\n",
    "payload = {\n",
    "    'inputs': [\n",
    "        {\n",
    "            'name': 'predict',\n",
    "            'shape': [1, 5],\n",
    "            'datatype': 'FP32',\n",
    "            'data': sample\n",
    "        }\n",
    "    ]\n",
    "}"
   ]
  },
  {
   "cell_type": "code",
   "execution_count": 4,
   "id": "5c8e45a9-6ae1-414b-a677-c152864bf699",
   "metadata": {},
   "outputs": [
    {
     "name": "stdout",
     "output_type": "stream",
     "text": [
      "{'model_name': 'model-2402030159__isvc-3102230fbb',\n",
      " 'outputs': [{'data': [0],\n",
      "              'datatype': 'INT64',\n",
      "              'name': 'predict',\n",
      "              'parameters': {'content_type': 'np'},\n",
      "              'shape': [1, 1]}]}\n"
     ]
    }
   ],
   "source": [
    "response = post(prediction_url, json=payload)\n",
    "pprint(response.json())"
   ]
  },
  {
   "cell_type": "code",
   "execution_count": null,
   "id": "59bfad00-87ab-4e0a-837b-683a57e28663",
   "metadata": {},
   "outputs": [],
   "source": []
  }
 ],
 "metadata": {
  "kernelspec": {
   "display_name": "Python 3.9",
   "language": "python",
   "name": "python3"
  },
  "language_info": {
   "codemirror_mode": {
    "name": "ipython",
    "version": 3
   },
   "file_extension": ".py",
   "mimetype": "text/x-python",
   "name": "python",
   "nbconvert_exporter": "python",
   "pygments_lexer": "ipython3",
   "version": "3.9.16"
  },
  "vscode": {
   "interpreter": {
    "hash": "e7370f93d1d0cde622a1f8e1c04877d8463912d04d973331ad4851f04de6915a"
   }
  }
 },
 "nbformat": 4,
 "nbformat_minor": 5
}
