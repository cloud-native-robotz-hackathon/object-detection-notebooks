{
 "cells": [
  {
   "cell_type": "code",
   "execution_count": 2,
   "id": "bec317b3-45ce-42c1-bf33-7ab7effd6413",
   "metadata": {
    "tags": []
   },
   "outputs": [
    {
     "name": "stderr",
     "output_type": "stream",
     "text": [
      "2024/02/05 17:25:29 INFO mlflow.tracking.fluent: Experiment with name 'my-experiment' does not exist. Creating a new experiment.\n"
     ]
    },
    {
     "name": "stdout",
     "output_type": "stream",
     "text": [
      "test\n"
     ]
    }
   ],
   "source": [
    "import mlflow\n",
    "from sklearn.linear_model import LogisticRegression\n",
    "\n",
    "# Set tracking URI\n",
    "mlflow.set_tracking_uri('http://mlflow-server.mlflow.svc.cluster.local:8080')\n",
    "\n",
    "# Setting the experiment\n",
    "mlflow.set_experiment(\"my-experiment\")\n",
    "\n",
    "if __name__ == \"__main__\":\n",
    "    # Enabling automatic logging for scikit-learn runs\n",
    "    mlflow.sklearn.autolog()\n",
    "\n",
    "    # Starting a logging run\n",
    "    with mlflow.start_run():\n",
    "        print('test')"
   ]
  },
  {
   "cell_type": "code",
   "execution_count": null,
   "id": "4499bf79-d47b-4320-bf74-28d1aa1ea24b",
   "metadata": {},
   "outputs": [],
   "source": []
  }
 ],
 "metadata": {
  "kernelspec": {
   "display_name": "Python 3.9",
   "language": "python",
   "name": "python3"
  },
  "language_info": {
   "codemirror_mode": {
    "name": "ipython",
    "version": 3
   },
   "file_extension": ".py",
   "mimetype": "text/x-python",
   "name": "python",
   "nbconvert_exporter": "python",
   "pygments_lexer": "ipython3",
   "version": "3.9.16"
  }
 },
 "nbformat": 4,
 "nbformat_minor": 5
}
