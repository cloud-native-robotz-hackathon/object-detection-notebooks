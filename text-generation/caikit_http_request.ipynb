{
 "cells": [
  {
   "cell_type": "code",
   "execution_count": null,
   "id": "3288e96a-d1b6-4026-a80d-ab35ff626732",
   "metadata": {
    "tags": []
   },
   "outputs": [],
   "source": [
    "import warnings\n",
    "from requests import post\n",
    "\n",
    "\n",
    "warnings.simplefilter(\"ignore\")"
   ]
  },
  {
   "cell_type": "code",
   "execution_count": null,
   "id": "f234d4d8-3289-411b-b8e8-8a1d9b5422d0",
   "metadata": {
    "tags": []
   },
   "outputs": [],
   "source": [
    "def generate_text(input_text, model_id, inference_endpoint):\n",
    "    payload = {'model_id': model_id, 'inputs': input_text}\n",
    "    task_endpoint = f'{inference_endpoint}/api/v1/task/text-generation'\n",
    "    raw_response = post(task_endpoint, json=payload, verify=False)\n",
    "    generated_text = raw_response.json()['generated_text']\n",
    "    return generated_text"
   ]
  },
  {
   "cell_type": "code",
   "execution_count": null,
   "id": "ff06f2fc-d377-47d4-83c4-aa360b80a61c",
   "metadata": {
    "tags": []
   },
   "outputs": [],
   "source": [
    "def generate_text_stream(input_text, model_id, inference_endpoint):\n",
    "    payload = {'model_id': model_id, 'inputs': input_text}\n",
    "    task_endpoint = f'{inference_endpoint}/api/v1/task/server-streaming-text-generation'\n",
    "    raw_response = post(task_endpoint, json=payload, verify=False, stream=True)\n",
    "    for chunk in raw_response.iter_content(chunk_size=128):\n",
    "        print(chunk)"
   ]
  },
  {
   "cell_type": "code",
   "execution_count": null,
   "id": "3ea30b74-3207-4550-b178-7ef9a63cd294",
   "metadata": {
    "tags": []
   },
   "outputs": [],
   "source": [
    "inference_endpoint = 'REPLACE_ME'\n",
    "model_id = 'REPLACE_ME'\n",
    "input_text = 'How many days are in a year?'"
   ]
  },
  {
   "cell_type": "code",
   "execution_count": null,
   "id": "2bb128af-620c-468d-b937-2902c55878a5",
   "metadata": {
    "tags": []
   },
   "outputs": [],
   "source": [
    "generate_text(input_text, model_id, inference_endpoint)"
   ]
  },
  {
   "cell_type": "code",
   "execution_count": null,
   "id": "e21fc419-c6c2-402a-995c-3dc120bf3a07",
   "metadata": {
    "tags": []
   },
   "outputs": [],
   "source": [
    "generate_text_stream(input_text, model_id, inference_endpoint)"
   ]
  },
  {
   "cell_type": "code",
   "execution_count": null,
   "id": "cefd2e24-c3e6-4396-9174-7d6767d1ab02",
   "metadata": {},
   "outputs": [],
   "source": []
  }
 ],
 "metadata": {
  "kernelspec": {
   "display_name": "Python 3.9",
   "language": "python",
   "name": "python3"
  },
  "language_info": {
   "codemirror_mode": {
    "name": "ipython",
    "version": 3
   },
   "file_extension": ".py",
   "mimetype": "text/x-python",
   "name": "python",
   "nbconvert_exporter": "python",
   "pygments_lexer": "ipython3",
   "version": "3.9.18"
  }
 },
 "nbformat": 4,
 "nbformat_minor": 5
}
