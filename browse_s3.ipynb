{
 "cells": [
  {
   "cell_type": "code",
   "execution_count": null,
   "id": "1ea152cf",
   "metadata": {
    "tags": []
   },
   "outputs": [],
   "source": [
    "from os import environ\n",
    "from pprint import pformat\n",
    "\n",
    "from boto3 import client\n",
    "\n",
    "\n",
    "s3_endpoint_url = environ.get('AWS_S3_ENDPOINT')\n",
    "s3_access_key = environ.get('AWS_ACCESS_KEY_ID')\n",
    "s3_secret_key = environ.get('AWS_SECRET_ACCESS_KEY')\n",
    "s3_bucket_name = environ.get('AWS_S3_BUCKET')\n",
    "\n",
    "print(f'Read credentials for bucket {s3_bucket_name}')\n",
    "\n",
    "s3_client = client(\n",
    "    's3', aws_access_key_id=s3_access_key,\n",
    "    aws_secret_access_key=s3_secret_key,\n",
    "    endpoint_url=s3_endpoint_url,\n",
    ")\n",
    "\n",
    "\n",
    "def list_objects():\n",
    "    object_list = s3_client.list_objects(Bucket=s3_bucket_name)\n",
    "    if 'Contents' in object_list:\n",
    "        object_names = [\n",
    "            item['Key'] for item in object_list['Contents']\n",
    "        ]\n",
    "    else:\n",
    "        object_names = []\n",
    "    print(f'Objects in target bucket: {pformat(object_names)}')\n",
    "\n",
    "\n",
    "def download_object(object_name):\n",
    "    s3_client.download_file(\n",
    "        s3_bucket_name, object_name, object_name\n",
    "    )\n",
    "\n",
    "\n",
    "def upload_object(file_name):\n",
    "    object_name = file_name.split('/')[-1]\n",
    "    with open(file_name, 'rb') as file:\n",
    "        s3_client.upload_fileobj(file, s3_bucket_name, object_name)\n",
    "    list_objects()\n",
    "\n",
    "\n",
    "def delete_object(object_name):\n",
    "    s3_client.delete_object(Bucket=s3_bucket_name, Key=object_name)\n",
    "    list_objects()\n",
    "\n",
    "\n",
    "list_objects()"
   ]
  },
  {
   "cell_type": "code",
   "execution_count": null,
   "id": "ae254c29-17c2-46be-89b9-87546d76920c",
   "metadata": {
    "tags": []
   },
   "outputs": [],
   "source": [
    "upload_object('elyra-kfp-example-python/raw-data.csv')"
   ]
  },
  {
   "cell_type": "code",
   "execution_count": null,
   "id": "2ceee01c-b7d8-4959-93d5-7c536b052bfa",
   "metadata": {
    "tags": []
   },
   "outputs": [],
   "source": [
    "download_object('raw-data.csv')"
   ]
  },
  {
   "cell_type": "code",
   "execution_count": null,
   "id": "08bdd7a6",
   "metadata": {
    "papermill": {
     "duration": 0.169399,
     "end_time": "2021-11-09T00:01:34.367046",
     "exception": false,
     "start_time": "2021-11-09T00:01:34.197647",
     "status": "completed"
    },
    "tags": []
   },
   "outputs": [],
   "source": [
    "delete_object('raw-data.csv')"
   ]
  },
  {
   "cell_type": "code",
   "execution_count": null,
   "id": "d4088641-8049-4f65-aec6-45a3bb6c5323",
   "metadata": {},
   "outputs": [],
   "source": []
  }
 ],
 "metadata": {
  "kernelspec": {
   "display_name": "Python 3.9.16",
   "language": "python",
   "name": "python3"
  },
  "language_info": {
   "codemirror_mode": {
    "name": "ipython",
    "version": 3
   },
   "file_extension": ".py",
   "mimetype": "text/x-python",
   "name": "python",
   "nbconvert_exporter": "python",
   "pygments_lexer": "ipython3",
   "version": "3.9.16"
  },
  "papermill": {
   "default_parameters": {},
   "duration": 10.25765,
   "end_time": "2021-11-09T00:01:35.007995",
   "environment_variables": {},
   "exception": null,
   "input_path": "__notebook__.ipynb",
   "output_path": "__notebook__.ipynb",
   "parameters": {},
   "start_time": "2021-11-09T00:01:24.750345",
   "version": "2.3.3"
  }
 },
 "nbformat": 4,
 "nbformat_minor": 5
}
